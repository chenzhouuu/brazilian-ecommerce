{
 "cells": [
  {
   "cell_type": "markdown",
   "metadata": {
    "_uuid": "69747fd753987601cf2d8c5e531a94a79b29f7f8"
   },
   "source": [
    "<h2>1. Introduction</h2>\n",
    "\n",
    "This dataset has 41,000 comments in portuguese and 100,000 review scores about ecommerce orders in Brazil. But what costumers are praising or complaining about? Delivering time? Packaging? Missing items? Product quality?\n",
    "\n",
    "Altough the kernel name, I'll be using topic extraction to find a few topics that represent the costumers opinions. With this approach there is no distance metric and we are not actually using a clustering algorithm, but a dimensionality reduction technique.\n",
    "\n",
    "Another approach would be training a classifier to predict some category for each review, but this has a few problems:\n",
    "\n",
    "* Manually labelling thousands of comments for training\n",
    "* Different analysts could introduce bias\n",
    "* Fixed number of categories\n",
    "\n",
    "First let's have a quick look at the reviews dataset. I'm removing all reviews that doesn't have a comment through python regular expression."
   ]
  },
  {
   "cell_type": "code",
   "execution_count": 1,
   "metadata": {
    "_uuid": "1320b886a3f296228b7d2a74acbceb1fc11a2c67"
   },
   "outputs": [
    {
     "data": {
      "text/html": [
       "<div>\n",
       "<style scoped>\n",
       "    .dataframe tbody tr th:only-of-type {\n",
       "        vertical-align: middle;\n",
       "    }\n",
       "\n",
       "    .dataframe tbody tr th {\n",
       "        vertical-align: top;\n",
       "    }\n",
       "\n",
       "    .dataframe thead th {\n",
       "        text-align: right;\n",
       "    }\n",
       "</style>\n",
       "<table border=\"1\" class=\"dataframe\">\n",
       "  <thead>\n",
       "    <tr style=\"text-align: right;\">\n",
       "      <th></th>\n",
       "      <th>review_id</th>\n",
       "      <th>order_id</th>\n",
       "      <th>review_score</th>\n",
       "      <th>review_comment_title</th>\n",
       "      <th>review_comment_message</th>\n",
       "      <th>review_creation_date</th>\n",
       "      <th>review_answer_timestamp</th>\n",
       "      <th>num_letters</th>\n",
       "    </tr>\n",
       "  </thead>\n",
       "  <tbody>\n",
       "    <tr>\n",
       "      <td>3</td>\n",
       "      <td>e64fb393e7b32834bb789ff8bb30750e</td>\n",
       "      <td>658677c97b385a9be170737859d3511b</td>\n",
       "      <td>5</td>\n",
       "      <td>NaN</td>\n",
       "      <td>Recebi bem antes do prazo estipulado.</td>\n",
       "      <td>2017-04-21 00:00:00</td>\n",
       "      <td>2017-04-21 22:02:06</td>\n",
       "      <td>31.0</td>\n",
       "    </tr>\n",
       "    <tr>\n",
       "      <td>4</td>\n",
       "      <td>f7c4243c7fe1938f181bec41a392bdeb</td>\n",
       "      <td>8e6bfb81e283fa7e4f11123a3fb894f1</td>\n",
       "      <td>5</td>\n",
       "      <td>NaN</td>\n",
       "      <td>Parabéns lojas lannister adorei comprar pela I...</td>\n",
       "      <td>2018-03-01 00:00:00</td>\n",
       "      <td>2018-03-02 10:26:53</td>\n",
       "      <td>82.0</td>\n",
       "    </tr>\n",
       "    <tr>\n",
       "      <td>9</td>\n",
       "      <td>8670d52e15e00043ae7de4c01cc2fe06</td>\n",
       "      <td>b9bf720beb4ab3728760088589c62129</td>\n",
       "      <td>4</td>\n",
       "      <td>recomendo</td>\n",
       "      <td>aparelho eficiente. no site a marca do aparelh...</td>\n",
       "      <td>2018-05-22 00:00:00</td>\n",
       "      <td>2018-05-23 16:45:47</td>\n",
       "      <td>139.0</td>\n",
       "    </tr>\n",
       "  </tbody>\n",
       "</table>\n",
       "</div>"
      ],
      "text/plain": [
       "                          review_id                          order_id  \\\n",
       "3  e64fb393e7b32834bb789ff8bb30750e  658677c97b385a9be170737859d3511b   \n",
       "4  f7c4243c7fe1938f181bec41a392bdeb  8e6bfb81e283fa7e4f11123a3fb894f1   \n",
       "9  8670d52e15e00043ae7de4c01cc2fe06  b9bf720beb4ab3728760088589c62129   \n",
       "\n",
       "   review_score review_comment_title  \\\n",
       "3             5                  NaN   \n",
       "4             5                  NaN   \n",
       "9             4            recomendo   \n",
       "\n",
       "                              review_comment_message review_creation_date  \\\n",
       "3              Recebi bem antes do prazo estipulado.  2017-04-21 00:00:00   \n",
       "4  Parabéns lojas lannister adorei comprar pela I...  2018-03-01 00:00:00   \n",
       "9  aparelho eficiente. no site a marca do aparelh...  2018-05-22 00:00:00   \n",
       "\n",
       "  review_answer_timestamp  num_letters  \n",
       "3     2017-04-21 22:02:06         31.0  \n",
       "4     2018-03-02 10:26:53         82.0  \n",
       "9     2018-05-23 16:45:47        139.0  "
      ]
     },
     "execution_count": 1,
     "metadata": {},
     "output_type": "execute_result"
    }
   ],
   "source": [
    "import pandas as pd\n",
    "reviews = pd.read_csv('olist_order_reviews_dataset.csv')\n",
    "reviews['num_letters'] = reviews.review_comment_message.str.count('[a-zA-Z]')\n",
    "reviews = reviews[reviews.num_letters > 0]  # Filter valid comments\n",
    "reviews.head(3)"
   ]
  },
  {
   "cell_type": "markdown",
   "metadata": {
    "_uuid": "56f99e8d25b74d721179e4a849d47bd142e12047"
   },
   "source": [
    "<h3>1.1 Text Exploratory Analysis</h3>\n",
    "\n",
    "For a complete exploration on all datasets you can check [this kernel](https://www.kaggle.com/jsaguiar/e-commerce-exploratory-analysis)."
   ]
  },
  {
   "cell_type": "code",
   "execution_count": 5,
   "metadata": {
    "_cell_guid": "b1076dfc-b9ad-4769-8c92-a6c4dae69d19",
    "_kg_hide-input": true,
    "_uuid": "8f2839f25d086af736a60e9eeb907d3b93b6e0e5"
   },
   "outputs": [
    {
     "data": {
      "text/html": [
       "        <script type=\"text/javascript\">\n",
       "        window.PlotlyConfig = {MathJaxConfig: 'local'};\n",
       "        if (window.MathJax) {MathJax.Hub.Config({SVG: {font: \"STIX-Web\"}});}\n",
       "        if (typeof require !== 'undefined') {\n",
       "        require.undef(\"plotly\");\n",
       "        requirejs.config({\n",
       "            paths: {\n",
       "                'plotly': ['https://cdn.plot.ly/plotly-latest.min']\n",
       "            }\n",
       "        });\n",
       "        require(['plotly'], function(Plotly) {\n",
       "            window._Plotly = Plotly;\n",
       "        });\n",
       "        }\n",
       "        </script>\n",
       "        "
      ]
     },
     "metadata": {},
     "output_type": "display_data"
    },
    {
     "data": {
      "image/png": "[encoded data removed]",
      "text/plain": [
       "<Figure size 1728x1152 with 1 Axes>"
      ]
     },
     "metadata": {
      "needs_background": "light"
     },
     "output_type": "display_data"
    }
   ],
   "source": [
    "import re\n",
    "import numpy as np\n",
    "# Nlp\n",
    "import nltk\n",
    "# Sklearn\n",
    "from sklearn.model_selection import train_test_split\n",
    "from sklearn.feature_extraction.text import TfidfVectorizer, CountVectorizer\n",
    "from sklearn.pipeline import Pipeline, FeatureUnion\n",
    "from sklearn.base import BaseEstimator, TransformerMixin\n",
    "from sklearn.decomposition import NMF, LatentDirichletAllocation, TruncatedSVD\n",
    "from sklearn.manifold import TSNE\n",
    "# Plots\n",
    "import seaborn as sns\n",
    "from plotly.offline import init_notebook_mode, iplot\n",
    "import plotly.graph_objs as go\n",
    "from plotly import tools, figure_factory\n",
    "init_notebook_mode(connected=True)\n",
    "# Wordcloud\n",
    "from wordcloud import WordCloud\n",
    "import matplotlib.pyplot as plt\n",
    "import warnings\n",
    "warnings.simplefilter(action='ignore', category=FutureWarning)\n",
    "\n",
    "def plot_wordcloud(text, stopwords, mask=None, max_words=200, max_font_size=100,\n",
    "                   title=None, title_size=40, image_color=False):\n",
    "\n",
    "    figure_size = (24, 16)\n",
    "    wordcloud = WordCloud(background_color='black',\n",
    "                    stopwords = stopwords,\n",
    "                    max_words = max_words,\n",
    "                    max_font_size = max_font_size, \n",
    "                    random_state = 42,\n",
    "                    width=1200, \n",
    "                    height=300,\n",
    "                    mask = mask)\n",
    "    wordcloud.generate(str(text))\n",
    "    \n",
    "    plt.figure(figsize=figure_size)\n",
    "    plt.imshow(wordcloud);\n",
    "    plt.title(title, fontdict={'size': title_size, 'color': 'black', \n",
    "                                  'verticalalignment': 'bottom'})\n",
    "    plt.axis('off');\n",
    "    plt.tight_layout()  \n",
    "\n",
    "stopwords = nltk.corpus.stopwords.words('portuguese')\n",
    "comments = reviews.review_comment_message.values\n",
    "plot_wordcloud(comments, stopwords, title=\"\")"
   ]
  },
  {
   "cell_type": "markdown",
   "metadata": {
    "_uuid": "49250fa569c3a46228c78c59b01561d81589c3b0"
   },
   "source": [
    "Let's have a look at the most common words and trigrams:"
   ]
  },
  {
   "cell_type": "code",
   "execution_count": 6,
   "metadata": {
    "_kg_hide-input": true,
    "_uuid": "fed520f6d8be1c932ff42159a5b5c28e1df0bf67"
   },
   "outputs": [
    {
     "name": "stderr",
     "output_type": "stream",
     "text": [
      "/opt/anaconda3/lib/python3.7/site-packages/plotly/tools.py:465: DeprecationWarning:\n",
      "\n",
      "plotly.tools.make_subplots is deprecated, please use plotly.subplots.make_subplots instead\n",
      "\n"
     ]
    },
    {
     "data": {
      "application/vnd.plotly.v1+json": {
       "config": {
        "linkText": "Export to plot.ly",
        "plotlyServerURL": "https://plot.ly",
        "showLink": false
       },
       "data": [
        {
         "marker": {
          "color": "rgb(49,130,189)"
         },
         "name": "Number of words",
         "orientation": "h",
         "type": "bar",
         "x": [
          18761,
          8428,
          6613,
          5646,
          5609,
          5448,
          4604,
          4266,
          3884,
          3351,
          3124,
          2867
         ],
         "xaxis": "x",
         "y": [
          "produto",
          "prazo",
          "entrega",
          "antes",
          "chegou",
          "recebi",
          "bom",
          "recomendo",
          "entregue",
          "veio",
          "bem",
          "comprei"
         ],
         "yaxis": "y"
        },
        {
         "marker": {
          "color": "rgb(204,204,204)"
         },
         "name": "Number of trigrams",
         "orientation": "h",
         "type": "bar",
         "x": [
          1120,
          695,
          607,
          458,
          432,
          416,
          379,
          292,
          277,
          255,
          251,
          230
         ],
         "xaxis": "x2",
         "y": [
          "chegou antes prazo",
          "bem antes prazo",
          "entregue antes prazo",
          "produto chegou antes",
          "entrega antes prazo",
          "chegou bem antes",
          "produto entregue antes",
          "entrega super rápida",
          "antes prazo previsto",
          "ainda recebi produto",
          "produto ótima qualidade",
          "produto boa qualidade"
         ],
         "yaxis": "y2"
        }
       ],
       "layout": {
        "height": 600,
        "legend": {
         "orientation": "h"
        },
        "margin": {
         "b": 100,
         "l": 150,
         "r": 10,
         "t": 100
        },
        "template": {
         "data": {
          "bar": [
           {
            "error_x": {
             "color": "#2a3f5f"
            },
            "error_y": {
             "color": "#2a3f5f"
            },
            "marker": {
             "line": {
              "color": "#E5ECF6",
              "width": 0.5
             }
            },
            "type": "bar"
           }
          ],
          "barpolar": [
           {
            "marker": {
             "line": {
              "color": "#E5ECF6",
              "width": 0.5
             }
            },
            "type": "barpolar"
           }
          ],
          "carpet": [
           {
            "aaxis": {
             "endlinecolor": "#2a3f5f",
             "gridcolor": "white",
             "linecolor": "white",
             "minorgridcolor": "white",
             "startlinecolor": "#2a3f5f"
            },
            "baxis": {
             "endlinecolor": "#2a3f5f",
             "gridcolor": "white",
             "linecolor": "white",
             "minorgridcolor": "white",
             "startlinecolor": "#2a3f5f"
            },
            "type": "carpet"
           }
          ],
          "choropleth": [
           {
            "colorbar": {
             "outlinewidth": 0,
             "ticks": ""
            },
            "type": "choropleth"
           }
          ],
          "contour": [
           {
            "colorbar": {
             "outlinewidth": 0,
             "ticks": ""
            },
            "colorscale": [
             [
              0,
              "#0d0887"
             ],
             [
              0.1111111111111111,
              "#46039f"
             ],
             [
              0.2222222222222222,
              "#7201a8"
             ],
             [
              0.3333333333333333,
              "#9c179e"
             ],
             [
              0.4444444444444444,
              "#bd3786"
             ],
             [
              0.5555555555555556,
              "#d8576b"
             ],
             [
              0.6666666666666666,
              "#ed7953"
             ],
             [
              0.7777777777777778,
              "#fb9f3a"
             ],
             [
              0.8888888888888888,
              "#fdca26"
             ],
             [
              1,
              "#f0f921"
             ]
            ],
            "type": "contour"
           }
          ],
          "contourcarpet": [
           {
            "colorbar": {
             "outlinewidth": 0,
             "ticks": ""
            },
            "type": "contourcarpet"
           }
          ],
          "heatmap": [
           {
            "colorbar": {
             "outlinewidth": 0,
             "ticks": ""
            },
            "colorscale": [
             [
              0,
              "#0d0887"
             ],
             [
              0.1111111111111111,
              "#46039f"
             ],
             [
              0.2222222222222222,
              "#7201a8"
             ],
             [
              0.3333333333333333,
              "#9c179e"
             ],
             [
              0.4444444444444444,
              "#bd3786"
             ],
             [
              0.5555555555555556,
              "#d8576b"
             ],
             [
              0.6666666666666666,
              "#ed7953"
             ],
             [
              0.7777777777777778,
              "#fb9f3a"
             ],
             [
              0.8888888888888888,
              "#fdca26"
             ],
             [
              1,
              "#f0f921"
             ]
            ],
            "type": "heatmap"
           }
          ],
          "heatmapgl": [
           {
            "colorbar": {
             "outlinewidth": 0,
             "ticks": ""
            },
            "colorscale": [
             [
              0,
              "#0d0887"
             ],
             [
              0.1111111111111111,
              "#46039f"
             ],
             [
              0.2222222222222222,
              "#7201a8"
             ],
             [
              0.3333333333333333,
              "#9c179e"
             ],
             [
              0.4444444444444444,
              "#bd3786"
             ],
             [
              0.5555555555555556,
              "#d8576b"
             ],
             [
              0.6666666666666666,
              "#ed7953"
             ],
             [
              0.7777777777777778,
              "#fb9f3a"
             ],
             [
              0.8888888888888888,
              "#fdca26"
             ],
             [
              1,
              "#f0f921"
             ]
            ],
            "type": "heatmapgl"
           }
          ],
          "histogram": [
           {
            "marker": {
             "colorbar": {
              "outlinewidth": 0,
              "ticks": ""
             }
            },
            "type": "histogram"
           }
          ],
          "histogram2d": [
           {
            "colorbar": {
             "outlinewidth": 0,
             "ticks": ""
            },
            "colorscale": [
             [
              0,
              "#0d0887"
             ],
             [
              0.1111111111111111,
              "#46039f"
             ],
             [
              0.2222222222222222,
              "#7201a8"
             ],
             [
              0.3333333333333333,
              "#9c179e"
             ],
             [
              0.4444444444444444,
              "#bd3786"
             ],
             [
              0.5555555555555556,
              "#d8576b"
             ],
             [
              0.6666666666666666,
              "#ed7953"
             ],
             [
              0.7777777777777778,
              "#fb9f3a"
             ],
             [
              0.8888888888888888,
              "#fdca26"
             ],
             [
              1,
              "#f0f921"
             ]
            ],
            "type": "histogram2d"
           }
          ],
          "histogram2dcontour": [
           {
            "colorbar": {
             "outlinewidth": 0,
             "ticks": ""
            },
            "colorscale": [
             [
              0,
              "#0d0887"
             ],
             [
              0.1111111111111111,
              "#46039f"
             ],
             [
              0.2222222222222222,
              "#7201a8"
             ],
             [
              0.3333333333333333,
              "#9c179e"
             ],
             [
              0.4444444444444444,
              "#bd3786"
             ],
             [
              0.5555555555555556,
              "#d8576b"
             ],
             [
              0.6666666666666666,
              "#ed7953"
             ],
             [
              0.7777777777777778,
              "#fb9f3a"
             ],
             [
              0.8888888888888888,
              "#fdca26"
             ],
             [
              1,
              "#f0f921"
             ]
            ],
            "type": "histogram2dcontour"
           }
          ],
          "mesh3d": [
           {
            "colorbar": {
             "outlinewidth": 0,
             "ticks": ""
            },
            "type": "mesh3d"
           }
          ],
          "parcoords": [
           {
            "line": {
             "colorbar": {
              "outlinewidth": 0,
              "ticks": ""
             }
            },
            "type": "parcoords"
           }
          ],
          "pie": [
           {
            "automargin": true,
            "type": "pie"
           }
          ],
          "scatter": [
           {
            "marker": {
             "colorbar": {
              "outlinewidth": 0,
              "ticks": ""
             }
            },
            "type": "scatter"
           }
          ],
          "scatter3d": [
           {
            "line": {
             "colorbar": {
              "outlinewidth": 0,
              "ticks": ""
             }
            },
            "marker": {
             "colorbar": {
              "outlinewidth": 0,
              "ticks": ""
             }
            },
            "type": "scatter3d"
           }
          ],
          "scattercarpet": [
           {
            "marker": {
             "colorbar": {
              "outlinewidth": 0,
              "ticks": ""
             }
            },
            "type": "scattercarpet"
           }
          ],
          "scattergeo": [
           {
            "marker": {
             "colorbar": {
              "outlinewidth": 0,
              "ticks": ""
             }
            },
            "type": "scattergeo"
           }
          ],
          "scattergl": [
           {
            "marker": {
             "colorbar": {
              "outlinewidth": 0,
              "ticks": ""
             }
            },
            "type": "scattergl"
           }
          ],
          "scattermapbox": [
           {
            "marker": {
             "colorbar": {
              "outlinewidth": 0,
              "ticks": ""
             }
            },
            "type": "scattermapbox"
           }
          ],
          "scatterpolar": [
           {
            "marker": {
             "colorbar": {
              "outlinewidth": 0,
              "ticks": ""
             }
            },
            "type": "scatterpolar"
           }
          ],
          "scatterpolargl": [
           {
            "marker": {
             "colorbar": {
              "outlinewidth": 0,
              "ticks": ""
             }
            },
            "type": "scatterpolargl"
           }
          ],
          "scatterternary": [
           {
            "marker": {
             "colorbar": {
              "outlinewidth": 0,
              "ticks": ""
             }
            },
            "type": "scatterternary"
           }
          ],
          "surface": [
           {
            "colorbar": {
             "outlinewidth": 0,
             "ticks": ""
            },
            "colorscale": [
             [
              0,
              "#0d0887"
             ],
             [
              0.1111111111111111,
              "#46039f"
             ],
             [
              0.2222222222222222,
              "#7201a8"
             ],
             [
              0.3333333333333333,
              "#9c179e"
             ],
             [
              0.4444444444444444,
              "#bd3786"
             ],
             [
              0.5555555555555556,
              "#d8576b"
             ],
             [
              0.6666666666666666,
              "#ed7953"
             ],
             [
              0.7777777777777778,
              "#fb9f3a"
             ],
             [
              0.8888888888888888,
              "#fdca26"
             ],
             [
              1,
              "#f0f921"
             ]
            ],
            "type": "surface"
           }
          ],
          "table": [
           {
            "cells": {
             "fill": {
              "color": "#EBF0F8"
             },
             "line": {
              "color": "white"
             }
            },
            "header": {
             "fill": {
              "color": "#C8D4E3"
             },
             "line": {
              "color": "white"
             }
            },
            "type": "table"
           }
          ]
         },
         "layout": {
          "annotationdefaults": {
           "arrowcolor": "#2a3f5f",
           "arrowhead": 0,
           "arrowwidth": 1
          },
          "coloraxis": {
           "colorbar": {
            "outlinewidth": 0,
            "ticks": ""
           }
          },
          "colorscale": {
           "diverging": [
            [
             0,
             "#8e0152"
            ],
            [
             0.1,
             "#c51b7d"
            ],
            [
             0.2,
             "#de77ae"
            ],
            [
             0.3,
             "#f1b6da"
            ],
            [
             0.4,
             "#fde0ef"
            ],
            [
             0.5,
             "#f7f7f7"
            ],
            [
             0.6,
             "#e6f5d0"
            ],
            [
             0.7,
             "#b8e186"
            ],
            [
             0.8,
             "#7fbc41"
            ],
            [
             0.9,
             "#4d9221"
            ],
            [
             1,
             "#276419"
            ]
           ],
           "sequential": [
            [
             0,
             "#0d0887"
            ],
            [
             0.1111111111111111,
             "#46039f"
            ],
            [
             0.2222222222222222,
             "#7201a8"
            ],
            [
             0.3333333333333333,
             "#9c179e"
            ],
            [
             0.4444444444444444,
             "#bd3786"
            ],
            [
             0.5555555555555556,
             "#d8576b"
            ],
            [
             0.6666666666666666,
             "#ed7953"
            ],
            [
             0.7777777777777778,
             "#fb9f3a"
            ],
            [
             0.8888888888888888,
             "#fdca26"
            ],
            [
             1,
             "#f0f921"
            ]
           ],
           "sequentialminus": [
            [
             0,
             "#0d0887"
            ],
            [
             0.1111111111111111,
             "#46039f"
            ],
            [
             0.2222222222222222,
             "#7201a8"
            ],
            [
             0.3333333333333333,
             "#9c179e"
            ],
            [
             0.4444444444444444,
             "#bd3786"
            ],
            [
             0.5555555555555556,
             "#d8576b"
            ],
            [
             0.6666666666666666,
             "#ed7953"
            ],
            [
             0.7777777777777778,
             "#fb9f3a"
            ],
            [
             0.8888888888888888,
             "#fdca26"
            ],
            [
             1,
             "#f0f921"
            ]
           ]
          },
          "colorway": [
           "#636efa",
           "#EF553B",
           "#00cc96",
           "#ab63fa",
           "#FFA15A",
           "#19d3f3",
           "#FF6692",
           "#B6E880",
           "#FF97FF",
           "#FECB52"
          ],
          "font": {
           "color": "#2a3f5f"
          },
          "geo": {
           "bgcolor": "white",
           "lakecolor": "white",
           "landcolor": "#E5ECF6",
           "showlakes": true,
           "showland": true,
           "subunitcolor": "white"
          },
          "hoverlabel": {
           "align": "left"
          },
          "hovermode": "closest",
          "mapbox": {
           "style": "light"
          },
          "paper_bgcolor": "white",
          "plot_bgcolor": "#E5ECF6",
          "polar": {
           "angularaxis": {
            "gridcolor": "white",
            "linecolor": "white",
            "ticks": ""
           },
           "bgcolor": "#E5ECF6",
           "radialaxis": {
            "gridcolor": "white",
            "linecolor": "white",
            "ticks": ""
           }
          },
          "scene": {
           "xaxis": {
            "backgroundcolor": "#E5ECF6",
            "gridcolor": "white",
            "gridwidth": 2,
            "linecolor": "white",
            "showbackground": true,
            "ticks": "",
            "zerolinecolor": "white"
           },
           "yaxis": {
            "backgroundcolor": "#E5ECF6",
            "gridcolor": "white",
            "gridwidth": 2,
            "linecolor": "white",
            "showbackground": true,
            "ticks": "",
            "zerolinecolor": "white"
           },
           "zaxis": {
            "backgroundcolor": "#E5ECF6",
            "gridcolor": "white",
            "gridwidth": 2,
            "linecolor": "white",
            "showbackground": true,
            "ticks": "",
            "zerolinecolor": "white"
           }
          },
          "shapedefaults": {
           "line": {
            "color": "#2a3f5f"
           }
          },
          "ternary": {
           "aaxis": {
            "gridcolor": "white",
            "linecolor": "white",
            "ticks": ""
           },
           "baxis": {
            "gridcolor": "white",
            "linecolor": "white",
            "ticks": ""
           },
           "bgcolor": "#E5ECF6",
           "caxis": {
            "gridcolor": "white",
            "linecolor": "white",
            "ticks": ""
           }
          },
          "title": {
           "x": 0.05
          },
          "xaxis": {
           "automargin": true,
           "gridcolor": "white",
           "linecolor": "white",
           "ticks": "",
           "title": {
            "standoff": 15
           },
           "zerolinecolor": "white",
           "zerolinewidth": 2
          },
          "yaxis": {
           "automargin": true,
           "gridcolor": "white",
           "linecolor": "white",
           "ticks": "",
           "title": {
            "standoff": 15
           },
           "zerolinecolor": "white",
           "zerolinewidth": 2
          }
         }
        },
        "title": {
         "text": "Words and trigrams in reviews"
        },
        "width": 800,
        "xaxis": {
         "anchor": "y",
         "domain": [
          0,
          0.4
         ]
        },
        "xaxis2": {
         "anchor": "y2",
         "domain": [
          0.6,
          1
         ]
        },
        "yaxis": {
         "anchor": "x",
         "domain": [
          0,
          1
         ]
        },
        "yaxis2": {
         "anchor": "x2",
         "domain": [
          0,
          1
         ]
        }
       }
      },
      "text/html": [
       "<div>\n",
       "        \n",
       "        \n",
       "            <div id=\"53a01b49-1947-4835-a89c-66b8636f502f\" class=\"plotly-graph-div\" style=\"height:600px; width:800px;\"></div>\n",
       "            <script type=\"text/javascript\">\n",
       "                require([\"plotly\"], function(Plotly) {\n",
       "                    window.PLOTLYENV=window.PLOTLYENV || {};\n",
       "                    \n",
       "                if (document.getElementById(\"53a01b49-1947-4835-a89c-66b8636f502f\")) {\n",
       "                    Plotly.newPlot(\n",
       "                        '53a01b49-1947-4835-a89c-66b8636f502f',\n",
       "                        [{\"marker\": {\"color\": \"rgb(49,130,189)\"}, \"name\": \"Number of words\", \"orientation\": \"h\", \"type\": \"bar\", \"x\": [18761, 8428, 6613, 5646, 5609, 5448, 4604, 4266, 3884, 3351, 3124, 2867], \"xaxis\": \"x\", \"y\": [\"produto\", \"prazo\", \"entrega\", \"antes\", \"chegou\", \"recebi\", \"bom\", \"recomendo\", \"entregue\", \"veio\", \"bem\", \"comprei\"], \"yaxis\": \"y\"}, {\"marker\": {\"color\": \"rgb(204,204,204)\"}, \"name\": \"Number of trigrams\", \"orientation\": \"h\", \"type\": \"bar\", \"x\": [1120, 695, 607, 458, 432, 416, 379, 292, 277, 255, 251, 230], \"xaxis\": \"x2\", \"y\": [\"chegou antes prazo\", \"bem antes prazo\", \"entregue antes prazo\", \"produto chegou antes\", \"entrega antes prazo\", \"chegou bem antes\", \"produto entregue antes\", \"entrega super r\\u00e1pida\", \"antes prazo previsto\", \"ainda recebi produto\", \"produto \\u00f3tima qualidade\", \"produto boa qualidade\"], \"yaxis\": \"y2\"}],\n",
       "                        {\"height\": 600, \"legend\": {\"orientation\": \"h\"}, \"margin\": {\"b\": 100, \"l\": 150, \"r\": 10, \"t\": 100}, \"template\": {\"data\": {\"bar\": [{\"error_x\": {\"color\": \"#2a3f5f\"}, \"error_y\": {\"color\": \"#2a3f5f\"}, \"marker\": {\"line\": {\"color\": \"#E5ECF6\", \"width\": 0.5}}, \"type\": \"bar\"}], \"barpolar\": [{\"marker\": {\"line\": {\"color\": \"#E5ECF6\", \"width\": 0.5}}, \"type\": \"barpolar\"}], \"carpet\": [{\"aaxis\": {\"endlinecolor\": \"#2a3f5f\", \"gridcolor\": \"white\", \"linecolor\": \"white\", \"minorgridcolor\": \"white\", \"startlinecolor\": \"#2a3f5f\"}, \"baxis\": {\"endlinecolor\": \"#2a3f5f\", \"gridcolor\": \"white\", \"linecolor\": \"white\", \"minorgridcolor\": \"white\", \"startlinecolor\": \"#2a3f5f\"}, \"type\": \"carpet\"}], \"choropleth\": [{\"colorbar\": {\"outlinewidth\": 0, \"ticks\": \"\"}, \"type\": \"choropleth\"}], \"contour\": [{\"colorbar\": {\"outlinewidth\": 0, \"ticks\": \"\"}, \"colorscale\": [[0.0, \"#0d0887\"], [0.1111111111111111, \"#46039f\"], [0.2222222222222222, \"#7201a8\"], [0.3333333333333333, \"#9c179e\"], [0.4444444444444444, \"#bd3786\"], [0.5555555555555556, \"#d8576b\"], [0.6666666666666666, \"#ed7953\"], [0.7777777777777778, \"#fb9f3a\"], [0.8888888888888888, \"#fdca26\"], [1.0, \"#f0f921\"]], \"type\": \"contour\"}], \"contourcarpet\": [{\"colorbar\": {\"outlinewidth\": 0, \"ticks\": \"\"}, \"type\": \"contourcarpet\"}], \"heatmap\": [{\"colorbar\": {\"outlinewidth\": 0, \"ticks\": \"\"}, \"colorscale\": [[0.0, \"#0d0887\"], [0.1111111111111111, \"#46039f\"], [0.2222222222222222, \"#7201a8\"], [0.3333333333333333, \"#9c179e\"], [0.4444444444444444, \"#bd3786\"], [0.5555555555555556, \"#d8576b\"], [0.6666666666666666, \"#ed7953\"], [0.7777777777777778, \"#fb9f3a\"], [0.8888888888888888, \"#fdca26\"], [1.0, \"#f0f921\"]], \"type\": \"heatmap\"}], \"heatmapgl\": [{\"colorbar\": {\"outlinewidth\": 0, \"ticks\": \"\"}, \"colorscale\": [[0.0, \"#0d0887\"], [0.1111111111111111, \"#46039f\"], [0.2222222222222222, \"#7201a8\"], [0.3333333333333333, \"#9c179e\"], [0.4444444444444444, \"#bd3786\"], [0.5555555555555556, \"#d8576b\"], [0.6666666666666666, \"#ed7953\"], [0.7777777777777778, \"#fb9f3a\"], [0.8888888888888888, \"#fdca26\"], [1.0, \"#f0f921\"]], \"type\": \"heatmapgl\"}], \"histogram\": [{\"marker\": {\"colorbar\": {\"outlinewidth\": 0, \"ticks\": \"\"}}, \"type\": \"histogram\"}], \"histogram2d\": [{\"colorbar\": {\"outlinewidth\": 0, \"ticks\": \"\"}, \"colorscale\": [[0.0, \"#0d0887\"], [0.1111111111111111, \"#46039f\"], [0.2222222222222222, \"#7201a8\"], [0.3333333333333333, \"#9c179e\"], [0.4444444444444444, \"#bd3786\"], [0.5555555555555556, \"#d8576b\"], [0.6666666666666666, \"#ed7953\"], [0.7777777777777778, \"#fb9f3a\"], [0.8888888888888888, \"#fdca26\"], [1.0, \"#f0f921\"]], \"type\": \"histogram2d\"}], \"histogram2dcontour\": [{\"colorbar\": {\"outlinewidth\": 0, \"ticks\": \"\"}, \"colorscale\": [[0.0, \"#0d0887\"], [0.1111111111111111, \"#46039f\"], [0.2222222222222222, \"#7201a8\"], [0.3333333333333333, \"#9c179e\"], [0.4444444444444444, \"#bd3786\"], [0.5555555555555556, \"#d8576b\"], [0.6666666666666666, \"#ed7953\"], [0.7777777777777778, \"#fb9f3a\"], [0.8888888888888888, \"#fdca26\"], [1.0, \"#f0f921\"]], \"type\": \"histogram2dcontour\"}], \"mesh3d\": [{\"colorbar\": {\"outlinewidth\": 0, \"ticks\": \"\"}, \"type\": \"mesh3d\"}], \"parcoords\": [{\"line\": {\"colorbar\": {\"outlinewidth\": 0, \"ticks\": \"\"}}, \"type\": \"parcoords\"}], \"pie\": [{\"automargin\": true, \"type\": \"pie\"}], \"scatter\": [{\"marker\": {\"colorbar\": {\"outlinewidth\": 0, \"ticks\": \"\"}}, \"type\": \"scatter\"}], \"scatter3d\": [{\"line\": {\"colorbar\": {\"outlinewidth\": 0, \"ticks\": \"\"}}, \"marker\": {\"colorbar\": {\"outlinewidth\": 0, \"ticks\": \"\"}}, \"type\": \"scatter3d\"}], \"scattercarpet\": [{\"marker\": {\"colorbar\": {\"outlinewidth\": 0, \"ticks\": \"\"}}, \"type\": \"scattercarpet\"}], \"scattergeo\": [{\"marker\": {\"colorbar\": {\"outlinewidth\": 0, \"ticks\": \"\"}}, \"type\": \"scattergeo\"}], \"scattergl\": [{\"marker\": {\"colorbar\": {\"outlinewidth\": 0, \"ticks\": \"\"}}, \"type\": \"scattergl\"}], \"scattermapbox\": [{\"marker\": {\"colorbar\": {\"outlinewidth\": 0, \"ticks\": \"\"}}, \"type\": \"scattermapbox\"}], \"scatterpolar\": [{\"marker\": {\"colorbar\": {\"outlinewidth\": 0, \"ticks\": \"\"}}, \"type\": \"scatterpolar\"}], \"scatterpolargl\": [{\"marker\": {\"colorbar\": {\"outlinewidth\": 0, \"ticks\": \"\"}}, \"type\": \"scatterpolargl\"}], \"scatterternary\": [{\"marker\": {\"colorbar\": {\"outlinewidth\": 0, \"ticks\": \"\"}}, \"type\": \"scatterternary\"}], \"surface\": [{\"colorbar\": {\"outlinewidth\": 0, \"ticks\": \"\"}, \"colorscale\": [[0.0, \"#0d0887\"], [0.1111111111111111, \"#46039f\"], [0.2222222222222222, \"#7201a8\"], [0.3333333333333333, \"#9c179e\"], [0.4444444444444444, \"#bd3786\"], [0.5555555555555556, \"#d8576b\"], [0.6666666666666666, \"#ed7953\"], [0.7777777777777778, \"#fb9f3a\"], [0.8888888888888888, \"#fdca26\"], [1.0, \"#f0f921\"]], \"type\": \"surface\"}], \"table\": [{\"cells\": {\"fill\": {\"color\": \"#EBF0F8\"}, \"line\": {\"color\": \"white\"}}, \"header\": {\"fill\": {\"color\": \"#C8D4E3\"}, \"line\": {\"color\": \"white\"}}, \"type\": \"table\"}]}, \"layout\": {\"annotationdefaults\": {\"arrowcolor\": \"#2a3f5f\", \"arrowhead\": 0, \"arrowwidth\": 1}, \"coloraxis\": {\"colorbar\": {\"outlinewidth\": 0, \"ticks\": \"\"}}, \"colorscale\": {\"diverging\": [[0, \"#8e0152\"], [0.1, \"#c51b7d\"], [0.2, \"#de77ae\"], [0.3, \"#f1b6da\"], [0.4, \"#fde0ef\"], [0.5, \"#f7f7f7\"], [0.6, \"#e6f5d0\"], [0.7, \"#b8e186\"], [0.8, \"#7fbc41\"], [0.9, \"#4d9221\"], [1, \"#276419\"]], \"sequential\": [[0.0, \"#0d0887\"], [0.1111111111111111, \"#46039f\"], [0.2222222222222222, \"#7201a8\"], [0.3333333333333333, \"#9c179e\"], [0.4444444444444444, \"#bd3786\"], [0.5555555555555556, \"#d8576b\"], [0.6666666666666666, \"#ed7953\"], [0.7777777777777778, \"#fb9f3a\"], [0.8888888888888888, \"#fdca26\"], [1.0, \"#f0f921\"]], \"sequentialminus\": [[0.0, \"#0d0887\"], [0.1111111111111111, \"#46039f\"], [0.2222222222222222, \"#7201a8\"], [0.3333333333333333, \"#9c179e\"], [0.4444444444444444, \"#bd3786\"], [0.5555555555555556, \"#d8576b\"], [0.6666666666666666, \"#ed7953\"], [0.7777777777777778, \"#fb9f3a\"], [0.8888888888888888, \"#fdca26\"], [1.0, \"#f0f921\"]]}, \"colorway\": [\"#636efa\", \"#EF553B\", \"#00cc96\", \"#ab63fa\", \"#FFA15A\", \"#19d3f3\", \"#FF6692\", \"#B6E880\", \"#FF97FF\", \"#FECB52\"], \"font\": {\"color\": \"#2a3f5f\"}, \"geo\": {\"bgcolor\": \"white\", \"lakecolor\": \"white\", \"landcolor\": \"#E5ECF6\", \"showlakes\": true, \"showland\": true, \"subunitcolor\": \"white\"}, \"hoverlabel\": {\"align\": \"left\"}, \"hovermode\": \"closest\", \"mapbox\": {\"style\": \"light\"}, \"paper_bgcolor\": \"white\", \"plot_bgcolor\": \"#E5ECF6\", \"polar\": {\"angularaxis\": {\"gridcolor\": \"white\", \"linecolor\": \"white\", \"ticks\": \"\"}, \"bgcolor\": \"#E5ECF6\", \"radialaxis\": {\"gridcolor\": \"white\", \"linecolor\": \"white\", \"ticks\": \"\"}}, \"scene\": {\"xaxis\": {\"backgroundcolor\": \"#E5ECF6\", \"gridcolor\": \"white\", \"gridwidth\": 2, \"linecolor\": \"white\", \"showbackground\": true, \"ticks\": \"\", \"zerolinecolor\": \"white\"}, \"yaxis\": {\"backgroundcolor\": \"#E5ECF6\", \"gridcolor\": \"white\", \"gridwidth\": 2, \"linecolor\": \"white\", \"showbackground\": true, \"ticks\": \"\", \"zerolinecolor\": \"white\"}, \"zaxis\": {\"backgroundcolor\": \"#E5ECF6\", \"gridcolor\": \"white\", \"gridwidth\": 2, \"linecolor\": \"white\", \"showbackground\": true, \"ticks\": \"\", \"zerolinecolor\": \"white\"}}, \"shapedefaults\": {\"line\": {\"color\": \"#2a3f5f\"}}, \"ternary\": {\"aaxis\": {\"gridcolor\": \"white\", \"linecolor\": \"white\", \"ticks\": \"\"}, \"baxis\": {\"gridcolor\": \"white\", \"linecolor\": \"white\", \"ticks\": \"\"}, \"bgcolor\": \"#E5ECF6\", \"caxis\": {\"gridcolor\": \"white\", \"linecolor\": \"white\", \"ticks\": \"\"}}, \"title\": {\"x\": 0.05}, \"xaxis\": {\"automargin\": true, \"gridcolor\": \"white\", \"linecolor\": \"white\", \"ticks\": \"\", \"title\": {\"standoff\": 15}, \"zerolinecolor\": \"white\", \"zerolinewidth\": 2}, \"yaxis\": {\"automargin\": true, \"gridcolor\": \"white\", \"linecolor\": \"white\", \"ticks\": \"\", \"title\": {\"standoff\": 15}, \"zerolinecolor\": \"white\", \"zerolinewidth\": 2}}}, \"title\": {\"text\": \"Words and trigrams in reviews\"}, \"width\": 800, \"xaxis\": {\"anchor\": \"y\", \"domain\": [0, 0.4]}, \"xaxis2\": {\"anchor\": \"y2\", \"domain\": [0.6, 1]}, \"yaxis\": {\"anchor\": \"x\", \"domain\": [0.0, 1.0]}, \"yaxis2\": {\"anchor\": \"x2\", \"domain\": [0.0, 1.0]}},\n",
       "                        {\"responsive\": true}\n",
       "                    ).then(function(){\n",
       "                            \n",
       "var gd = document.getElementById('53a01b49-1947-4835-a89c-66b8636f502f');\n",
       "var x = new MutationObserver(function (mutations, observer) {{\n",
       "        var display = window.getComputedStyle(gd).display;\n",
       "        if (!display || display === 'none') {{\n",
       "            console.log([gd, 'removed!']);\n",
       "            Plotly.purge(gd);\n",
       "            observer.disconnect();\n",
       "        }}\n",
       "}});\n",
       "\n",
       "// Listen for the removal of the full notebook cells\n",
       "var notebookContainer = gd.closest('#notebook-container');\n",
       "if (notebookContainer) {{\n",
       "    x.observe(notebookContainer, {childList: true});\n",
       "}}\n",
       "\n",
       "// Listen for the clearing of the current output cell\n",
       "var outputEl = gd.closest('.output');\n",
       "if (outputEl) {{\n",
       "    x.observe(outputEl, {childList: true});\n",
       "}}\n",
       "\n",
       "                        })\n",
       "                };\n",
       "                });\n",
       "            </script>\n",
       "        </div>"
      ]
     },
     "metadata": {},
     "output_type": "display_data"
    }
   ],
   "source": [
    "from collections import defaultdict\n",
    "\n",
    "def generate_ngrams(text, stopwords, n_gram=1):\n",
    "    token = [w.lower() for sent in nltk.sent_tokenize(text) for w in nltk.word_tokenize(sent)]\n",
    "    # Remove stopwords and ponctuation\n",
    "    token = [t for t in token if re.search('[a-zA-Z]', t) and t not in stopwords]\n",
    "    ngrams = zip(*[token[i:] for i in range(n_gram)])\n",
    "    return [\" \".join(ngram) for ngram in ngrams]\n",
    "\n",
    "# Count words\n",
    "freq_dict = defaultdict(int)\n",
    "for sent in comments:\n",
    "    for word in generate_ngrams(sent, stopwords):\n",
    "        freq_dict[word] += 1\n",
    "wdf = pd.DataFrame(sorted(freq_dict.items(), key=lambda x: x[1])[::-1],\n",
    "                   columns=[\"word\", \"word_count\"])\n",
    "\n",
    "# Count Trigrams\n",
    "freq_dict = defaultdict(int)\n",
    "for sent in comments:\n",
    "    for word in generate_ngrams(sent, stopwords, 3):\n",
    "        freq_dict[word] += 1\n",
    "tdf = pd.DataFrame(sorted(freq_dict.items(), key=lambda x: x[1])[::-1],\n",
    "                   columns=[\"trigram\", \"trigram_count\"])\n",
    "\n",
    "# Sort and filter top 12\n",
    "tdf = tdf.sort_values(by='trigram_count', ascending=False).iloc[:12]\n",
    "wdf = wdf.sort_values(by='word_count', ascending=False).iloc[:12]\n",
    "\n",
    "trace0 = go.Bar(\n",
    "    y=wdf.word.values,\n",
    "    x=wdf.word_count.values,\n",
    "    name='Number of words',\n",
    "    orientation='h',\n",
    "    marker=dict(color='rgb(49,130,189)')\n",
    ")\n",
    "trace1 = go.Bar(\n",
    "    y=tdf.trigram.values,\n",
    "    x=tdf.trigram_count.values,\n",
    "    name='Number of trigrams',\n",
    "    orientation='h',\n",
    "    marker=dict(color='rgb(204,204,204)')\n",
    ")\n",
    "fig = tools.make_subplots(rows=1, cols=2, print_grid=False)\n",
    "fig.append_trace(trace0, 1, 1)\n",
    "fig.append_trace(trace1, 1, 2)\n",
    "\n",
    "fig['layout'].update(\n",
    "    height=600, width=800,\n",
    "    title='Words and trigrams in reviews',\n",
    "    margin=dict(l=150, r=10, t=100, b=100),\n",
    "    legend=dict(orientation=\"h\")\n",
    ")\n",
    "fig['layout']['xaxis1'].update(domain=[0, 0.40])\n",
    "fig['layout']['xaxis2'].update(domain=[0.6, 1])\n",
    "iplot(fig)"
   ]
  },
  {
   "cell_type": "markdown",
   "metadata": {
    "_uuid": "313ce615220a744adcccf6631cd3fca10fdfcbfc"
   },
   "source": [
    "It seems that most comments are at least mentioning delivery time. Now let's have a look at some text statistics:"
   ]
  },
  {
   "cell_type": "code",
   "execution_count": null,
   "metadata": {
    "_kg_hide-input": true,
    "_uuid": "4b96a1055de948f6d711b6a26f6e628f5b0e8b75"
   },
   "outputs": [],
   "source": [
    "length = [len(text) for text in comments]\n",
    "num_letters = [len(re.findall(r'[a-zA-Z]', text)) for text in comments]\n",
    "num_commas = [text.count(',') for text in comments]\n",
    "num_dots = [text.count('.') for text in comments]\n",
    "\n",
    "fig, axis = plt.subplots(1, 2, figsize=(12,4))\n",
    "pl0 = sns.kdeplot(length, color='navy', label='Review length', ax=axis[0])\n",
    "pl1 = sns.kdeplot(num_letters, color='orange', label='Number of letters', ax=axis[0])\n",
    "pl2 = sns.kdeplot(num_dots, color='navy', label='Number of dots', ax=axis[1])\n",
    "pl3 = sns.kdeplot(num_commas, color='orange', label='Number of commas', ax=axis[1])"
   ]
  },
  {
   "cell_type": "markdown",
   "metadata": {
    "_uuid": "dff256a4ce860585ee2c9d7cb301fb4a2bc82c45"
   },
   "source": [
    "Some customers really like dots... Finally, let's check the review scores:"
   ]
  },
  {
   "cell_type": "code",
   "execution_count": null,
   "metadata": {
    "_kg_hide-input": true,
    "_uuid": "1210cd02b52383f2e5a967ed7fd691bd531011cc"
   },
   "outputs": [],
   "source": [
    "review_count = reviews.review_score.value_counts()\n",
    "trace = go.Bar(x=review_count.index, y=review_count.values)\n",
    "layout = go.Layout(title='Review scores distribution', height=360, width=800)\n",
    "fig = go.Figure(data=[trace], layout=layout)\n",
    "iplot(fig)"
   ]
  },
  {
   "cell_type": "markdown",
   "metadata": {
    "_uuid": "c15a382e9326c9e5dfc20dd1186556920792a60d"
   },
   "source": [
    "<h2>2. Text Preprocessing</h2>\n",
    "\n",
    "The first step is to transform comments in tokens. We also need to apply a few preprocessing steps like removing common words and correcting spelling mistakes. These steps must be implemented as classes and will be grouped using a sklearn pipeline in the next section. The first class is just for selecting columns in our data:"
   ]
  },
  {
   "cell_type": "code",
   "execution_count": null,
   "metadata": {
    "_uuid": "eb6770b313fd8eba974db027f136d0b74100fba2"
   },
   "outputs": [],
   "source": [
    "class ItemSelector(BaseEstimator, TransformerMixin):\n",
    "    \"\"\"For data grouped by feature, select subset of data at a provided key.\"\"\"\n",
    "    def __init__(self, key):\n",
    "        self.key = key\n",
    "\n",
    "    def fit(self, x, y=None):\n",
    "        return self\n",
    "\n",
    "    def transform(self, data_):\n",
    "        return data_[self.key].values"
   ]
  },
  {
   "cell_type": "markdown",
   "metadata": {
    "_uuid": "9efd6d3e6158741ce7059c4ad8de1ed6c0905bc0"
   },
   "source": [
    "<h3>2.1 Stopwords</h3>\n",
    "\n",
    "Removing common words like 'the' and 'is' usually improves the model since these words doesn't help to distinguish between documents. I'll be using the portuguese stopwords from NLTK with a few extra elements."
   ]
  },
  {
   "cell_type": "code",
   "execution_count": null,
   "metadata": {
    "_uuid": "8ef7b01f3f2c21eb3c2872193fcefc7ed47f650e"
   },
   "outputs": [],
   "source": [
    "class RemoveStopwords(BaseEstimator, TransformerMixin):\n",
    "    \"\"\"Remove stopwords from list of tokens list.\"\"\"\n",
    "    def fit(self, x, y=None):\n",
    "        return self\n",
    "\n",
    "    def transform(self, comments):\n",
    "        stopwords = nltk.corpus.stopwords.words('portuguese')\n",
    "        stopwords.extend(['é', 'ok', 'ta', 'tá', 'att', 'att.', 'sr', 'porém',\n",
    "                          'produto', 'recomendo'])\n",
    "        return [[tk for tk in tokens if tk not in stopwords] for tokens in comments]"
   ]
  },
  {
   "cell_type": "markdown",
   "metadata": {
    "_uuid": "925d2bc932b3ba4b03edd9326e4706f9f65025d0"
   },
   "source": [
    "<h3>2.2 Spelling mistakes</h3>\n",
    "\n",
    "There are a few algorithms to correct spelling mistakes, but I'll be doing this manually."
   ]
  },
  {
   "cell_type": "code",
   "execution_count": null,
   "metadata": {
    "_uuid": "c09fcb9a6f5b419bfdba60eaa2c7a82a4c31994e"
   },
   "outputs": [],
   "source": [
    "class CorrectSpelling(BaseEstimator, TransformerMixin):\n",
    "    \"\"\"Fix a few spelling mistakes in tokens.\"\"\"\n",
    "    def fit(self, x, y=None):\n",
    "        return self\n",
    "\n",
    "    def transform(self, comments):\n",
    "        mistakes_dict = {\n",
    "            'decpcionou': 'decepcionou', 'tô': 'estou', 'to': 'estou',\n",
    "            'q': 'que', 'pq': 'porque', 'mt': 'muito', 'muiiita': 'muita',\n",
    "            'estaav': 'estava', 'acabento': 'acabamento', 'orrivel': 'horrível',\n",
    "            'sertões': 'certos', 'vcs': 'vocês', 'msg': 'mensagem', 'dta': 'data',\n",
    "            'ñ': 'não', 'n': 'não', 'grates': 'grátis', 'testa-lo': 'testar',\n",
    "            'superandoo': 'superando', 'atentimento': 'atendimento',\n",
    "            'cancelacem': 'cancelassem', 'msm': 'mesmo', 'protudo': 'produto',\n",
    "            'decrarar': 'declarar', 'trasporte': 'transporte', 'decpsionei': 'decepcionei',\n",
    "            'empuerada': 'empoeirada', 'recebie': 'recebi', 'superr': 'super',\n",
    "            'nao': 'não', 'mto': 'muito', 'tb': 'também', 'execelente': 'excelente',\n",
    "            'tao': 'tão', 'blz': 'beleza'\n",
    "        }\n",
    "        return [[mistakes_dict[tk] if tk in mistakes_dict else tk for tk in tokens]\n",
    "               for tokens in comments]"
   ]
  },
  {
   "cell_type": "markdown",
   "metadata": {
    "_uuid": "3391218632e032d7803ad7de7716102209e8ac87"
   },
   "source": [
    "<h3>2.3 Stemming</h3>\n",
    "\n",
    "> Stemming is the process of reducing inflected (or sometimes derived) words to their word stem, base or root form. The stem need not be identical to the morphological root of the word; it is usually sufficient that related words map to the same stem, even if this stem is not in itself a valid root. (Wikipedia)\n",
    "\n",
    "The goal of stemming algorithms is to group related words and to separate unrelated words. More information about the portuguese stemmer can be find in [this link](https://snowballstem.org/algorithms/portuguese/stemmer.html)."
   ]
  },
  {
   "cell_type": "code",
   "execution_count": null,
   "metadata": {
    "_uuid": "d21cf809ddd08f79f31c7dfac4e6ee8f1bf6b65a"
   },
   "outputs": [],
   "source": [
    "class Stemmer(BaseEstimator, TransformerMixin):\n",
    "    \"\"\"Used to reduce words with the portuguese Snowball stemmer.\"\"\"\n",
    "    def fit(self, x, y=None):\n",
    "        return self\n",
    "\n",
    "    def transform(self, comments):\n",
    "        #stemmer_ = nltk.stem.snowball.SnowballStemmer('portuguese')\n",
    "        stemmer_ = nltk.stem.RSLPStemmer()\n",
    "        return [[stemmer_.stem(tk) for tk in tokens] for tokens in comments]"
   ]
  },
  {
   "cell_type": "markdown",
   "metadata": {
    "_uuid": "9e65b58bea4ac6867e125f448b3138cd92a34b05"
   },
   "source": [
    "<h3>2.4 Tokenize</h3>\n",
    "\n",
    "Return a list for each comment with tokens and remove the ones that doesn't have letters (like !! or ...)"
   ]
  },
  {
   "cell_type": "code",
   "execution_count": null,
   "metadata": {
    "_uuid": "3bce1646f01e5993801ffe9b17a34862d172e907"
   },
   "outputs": [],
   "source": [
    "class Tokenize(BaseEstimator, TransformerMixin):\n",
    "    \"\"\"Class to tokenize comments.\"\"\"\n",
    "    def fit(self, x, y=None):\n",
    "        return self\n",
    "\n",
    "    def transform(self, comments):\n",
    "        tokenized_comments = list()\n",
    "        for text in comments:\n",
    "            # Tokenize and lower\n",
    "            tokens = [w.lower() for sent in nltk.sent_tokenize(text) for w in nltk.word_tokenize(sent)]\n",
    "            # Filter tokens that doesn't have letters\n",
    "            tokens = [t for t in tokens if re.search('[a-zA-Z]', t)]\n",
    "            tokenized_comments.append(tokens)\n",
    "        return tokenized_comments"
   ]
  },
  {
   "cell_type": "markdown",
   "metadata": {
    "_uuid": "ed67538c46448b4bd82599159ada2c3edf89305f"
   },
   "source": [
    "<h3>2.5 Vectorize</h3>\n",
    "\n",
    "Finally we need to convert words to numbers. I'll use two transformers that are already implemented in Sklearn library:\n",
    "\n",
    "<b>Count Vectorizer</b>\n",
    "\n",
    "> Count the number of words in each document (review) and return a matrix where each column is a word and each row is a review. To save memory, sklearn return a sparse matrix object (scipy.sparse.csr_matrix).\n",
    "\n",
    "<b>TF-IDF</b>\n",
    "\n",
    "> Term frequency–inverse document frequency is a numerical statistic that is intended to reflect how important a word is to a document in a collection. The tf–idf value increases proportionally to the number of times a word appears in the document and is offset by the number of documents in the corpus that contain the word (Wikipedia).\n",
    "\n",
    "Both are considered bag-of-words representations, which doesn't consider the order and consequently the sentence meaning. However, it's possible to create good topic models using only the frequency of words in each document. "
   ]
  },
  {
   "cell_type": "markdown",
   "metadata": {
    "_uuid": "96417e4a08da8c8d4090945b7831e45e49b1bf8b"
   },
   "source": [
    "<h2>3. Topic Modeling</h2>\n",
    "\n",
    "Topic model is a type of statistical model for discovering the abstract topics that occur in a collection of documents. The number of topics is considered a hyperparameter, which I choose by looking at the topics that were being created. I've also tryed to use the perplexity metric for finding the optimal number, but it didn't work very well."
   ]
  },
  {
   "cell_type": "code",
   "execution_count": null,
   "metadata": {
    "_uuid": "5cf88f09130926c9491166786641e0ad5bb8bbb5"
   },
   "outputs": [],
   "source": [
    "def print_top_words_for_topic(components, feature_names, num_words):\n",
    "    \"\"\"Print top words for each topic in components vector.\"\"\"\n",
    "    for topic_idx, topic in enumerate(components):\n",
    "        message = \"Topic #%d: \" % (topic_idx + 1)\n",
    "        message += \" \".join([feature_names[i] for i in topic.argsort()[:-num_words - 1:-1]])\n",
    "        print(message)\n",
    "\n",
    "num_topics = 3\n",
    "rnd_state = 125"
   ]
  },
  {
   "cell_type": "markdown",
   "metadata": {
    "_uuid": "ae9e60909ef79e592577d13ca4b052129df9da04"
   },
   "source": [
    "<h3>3.1 Latent Semantic Analysis (LSA)</h3>\n",
    "\n",
    "The key idea of LSA is to map documents (and by symmetry terms) to a vector space of reduced dimensionality. The mapping is restricted to be linear and is based on a Singular Value Decomposition (SVD), which is also used in Principal Component Analysis. "
   ]
  },
  {
   "cell_type": "code",
   "execution_count": null,
   "metadata": {
    "_uuid": "b0c2364a0ea7a002eac65dff6f4a85f96a0797d9"
   },
   "outputs": [],
   "source": [
    "lsa_pipeline = Pipeline([\n",
    "    ('selector', ItemSelector(key='review_comment_message')),\n",
    "    ('tokenize', Tokenize()),\n",
    "    ('spelling', CorrectSpelling()),\n",
    "    ('stopwords', RemoveStopwords()),\n",
    "    ('stemming', Stemmer()),\n",
    "    ('tfidf', TfidfVectorizer(tokenizer=lambda x: x, preprocessor=lambda x: x,\n",
    "                              analyzer='word', min_df=2, max_df=0.95)),\n",
    "    ('reduce', TruncatedSVD(n_components=num_topics, random_state=rnd_state))\n",
    "])\n",
    "\n",
    "lsa_matrix = lsa_pipeline.fit_transform(reviews)\n",
    "# Get words and components from pipeline transformers\n",
    "feat_names = lsa_pipeline.get_params()['tfidf'].get_feature_names()\n",
    "components = lsa_pipeline.get_params()['reduce'].components_\n",
    "# Print the 8 most important words for each topic\n",
    "print_top_words_for_topic(components, feat_names, 8)"
   ]
  },
  {
   "cell_type": "markdown",
   "metadata": {
    "_uuid": "01699b5ff04531eeee42d5f893689d848afc73f6"
   },
   "source": [
    "<h3>3.2 Probabilistic Latent Semantic Analysis (pLSA)</h3>\n",
    "\n",
    "The crucial difference between pLSA and LSA is the objective function utilized to determine the optimal decomposition. In LSA, this is the L2-norm (or [Frobenius Norm](http://mathworld.wolfram.com/FrobeniusNorm.html) or matrix norm), while pLSA relies on the likelihood function of multinomial sampling ([Kullback-Leibler divergence](https://en.wikipedia.org/wiki/Kullback%E2%80%93Leibler_divergence)). \n",
    "\n",
    "PLSA is a non-linear model based on probability distributions. The output is the distribution over a fixed vocabulary, where every topic has a probability for every word. It's important to note that the same word can have a high probability for multiple topics. For a detailed explanation please refer to the [original paper](http://www.iro.umontreal.ca/~nie/IFT6255/Hofmann-UAI99.pdf).\n"
   ]
  },
  {
   "cell_type": "code",
   "execution_count": null,
   "metadata": {
    "_uuid": "35044969a46209d83c261a2ac008981ce22780cc"
   },
   "outputs": [],
   "source": [
    "plsa_pipeline = Pipeline([\n",
    "    ('selector', ItemSelector(key='review_comment_message')),\n",
    "    ('tokenize', Tokenize()),\n",
    "    ('spelling', CorrectSpelling()),\n",
    "    ('stopwords', RemoveStopwords()),\n",
    "    ('stemming', Stemmer()),\n",
    "    ('tfidf', TfidfVectorizer(tokenizer=lambda x: x, preprocessor=lambda x: x,\n",
    "                              analyzer='word', min_df=2, max_df=0.95)),\n",
    "    ('reduce', NMF(n_components=num_topics, random_state=rnd_state, solver='mu',\n",
    "                   beta_loss='kullback-leibler', alpha=0.1, l1_ratio=0.5))\n",
    "])\n",
    "\n",
    "plsa_matrix = plsa_pipeline.fit_transform(reviews)\n",
    "# Get words and components from pipeline transformers\n",
    "feat_names = plsa_pipeline.get_params()['tfidf'].get_feature_names()\n",
    "components = plsa_pipeline.get_params()['reduce'].components_\n",
    "# Print the 8 most important words for each topic\n",
    "print_top_words_for_topic(components, feat_names, 8)"
   ]
  },
  {
   "cell_type": "markdown",
   "metadata": {
    "_uuid": "b8c8daa3eaf5e7ae4be2725ce8ea3b42bd6bb7bb"
   },
   "source": [
    "<h3>3.2 Latent Dirichlet Allocation (LDA)</h3>\n",
    "\n",
    "Latent Dirichlet Allocation is a generative statistical model similar to pLSA. The difference is that LDA uses an [Dirichlet distribution](https://en.wikipedia.org/wiki/Dirichlet_distribution) to handle the per-document distribution, while in PLSA this is given by a hyperparameter. This distribution should also prevent overfitting (in theory)."
   ]
  },
  {
   "cell_type": "code",
   "execution_count": null,
   "metadata": {
    "_uuid": "7968b3c3c6b2e7838b22055687a2d9f4c479438b"
   },
   "outputs": [],
   "source": [
    "lda_pipeline = Pipeline([\n",
    "    ('selector', ItemSelector(key='review_comment_message')),\n",
    "    ('tokenize', Tokenize()),\n",
    "    ('spelling', CorrectSpelling()),\n",
    "    ('stopwords', RemoveStopwords()),\n",
    "    ('stemming', Stemmer()),\n",
    "    ('countvec', CountVectorizer(tokenizer=lambda x: x, preprocessor=lambda x: x,\n",
    "                                 analyzer='word', min_df=2, max_df=0.95)),\n",
    "    ('reduce', LatentDirichletAllocation(n_components=num_topics,\n",
    "                                         random_state=rnd_state))\n",
    "])\n",
    "\n",
    "lda_matrix = lda_pipeline.fit_transform(reviews)\n",
    "# Get words and components from pipeline transformers\n",
    "feat_names = lda_pipeline.get_params()['countvec'].get_feature_names()\n",
    "components = lda_pipeline.get_params()['reduce'].components_\n",
    "# Print the 8 most important words for each topic\n",
    "print_top_words_for_topic(components, feat_names, 8)"
   ]
  },
  {
   "cell_type": "markdown",
   "metadata": {
    "_uuid": "4728d61334d4decc4ae707d1d8fd265e45b68b64"
   },
   "source": [
    "<h2>4. Visualization with t-SNE</h2>\n",
    "\n",
    "t-Distributed Stochastic Neighbor Embedding (t-SNE) is a technique for dimensionality reduction that is particularly well suited for the visualization of high-dimensional datasets. It's not a linear model and does not retain distances but probabilities. For more information please refer to [this github page](https://lvdmaaten.github.io/tsne/)."
   ]
  },
  {
   "cell_type": "code",
   "execution_count": null,
   "metadata": {
    "_uuid": "c34f753aec2989ce5c21bdb3dd4d53c2202ae5bd"
   },
   "outputs": [],
   "source": [
    "def scatter_plot(arr, tsne_arr, threshold=0):\n",
    "    idx = np.amax(arr, axis = 1) >= threshold\n",
    "    colors = [row.argmax() for row in arr[idx]]\n",
    "    trace = go.Scattergl(x=tsne_arr[idx, 0], y=tsne_arr[idx, 1],\n",
    "                         mode='markers', marker=dict(color=colors))\n",
    "    iplot([trace])"
   ]
  },
  {
   "cell_type": "code",
   "execution_count": null,
   "metadata": {
    "_uuid": "41a9cf87c948e7ca0db9359d60265746a4bd2daf"
   },
   "outputs": [],
   "source": [
    "lr = 150\n",
    "# LSA\n",
    "lsa_tsne = TSNE(n_components=2, learning_rate=lr).fit_transform(lsa_matrix)\n",
    "scatter_plot(lsa_matrix, lsa_tsne)\n",
    "\n",
    "# pLSA\n",
    "plsa_tsne = TSNE(n_components=2, learning_rate=lr).fit_transform(plsa_matrix)\n",
    "scatter_plot(plsa_matrix, plsa_tsne)\n",
    "\n",
    "# LDA\n",
    "lda_tsne = TSNE(n_components=2, learning_rate=lr).fit_transform(lda_matrix)\n",
    "scatter_plot(lda_matrix, lda_tsne, threshold=0.5)"
   ]
  },
  {
   "cell_type": "markdown",
   "metadata": {
    "_uuid": "f967f46d4d38ea681472c6e7eeeceae5d92bf548"
   },
   "source": [
    "<h2>5. Quick Conclusion</h2>\n",
    "\n",
    "The challenge here is that most comments are related to delivery time or just praise/criticism without a specific topic. However, we can see that the first topic was about delivery, while the second was mainly about price and quality service. The third topic was mixed, with words like quality, store and delivery again. Another issue is the difficulty to evaluate unsupervised methods, since we don't have a straightforward metric to measure it."
   ]
  }
 ],
 "metadata": {
  "kernelspec": {
   "display_name": "Python 3",
   "language": "python",
   "name": "python3"
  },
  "language_info": {
   "codemirror_mode": {
    "name": "ipython",
    "version": 3
   },
   "file_extension": ".py",
   "mimetype": "text/x-python",
   "name": "python",
   "nbconvert_exporter": "python",
   "pygments_lexer": "ipython3",
   "version": "3.7.4"
  }
 },
 "nbformat": 4,
 "nbformat_minor": 1
}
